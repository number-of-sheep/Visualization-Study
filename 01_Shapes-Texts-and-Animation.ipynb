{
 "cells": [
  {
   "cell_type": "markdown",
   "metadata": {},
   "source": [
    "# 대주제"
   ]
  },
  {
   "cell_type": "code",
   "execution_count": null,
   "metadata": {},
   "outputs": [],
   "source": [
    "from manim import *\n",
    "\n",
    "config.media_width = \"75%\"\n",
    "config.verbosity = \"WARNING\""
   ]
  },
  {
   "cell_type": "code",
   "execution_count": null,
   "metadata": {},
   "outputs": [],
   "source": [
    "%%manim -qm DrawingShapes\n",
    "\n",
    "class DrawingShapes(Scene):\n",
    "    def construct(self):\n",
    "        circle = Circle(stroke_color='#87C2A5', fill_color='#87C2A5', fill_opacity=1)\n",
    "        square = Square(stroke_color='#525893', fill_color='#525893', fill_opacity=1)\n",
    "        triangle = Triangle(stroke_color='#E07A5F', fill_color='#E07A5F', fill_opacity=1)\n",
    "\n",
    "        circle.shift(LEFT)\n",
    "        square.shift(UP)\n",
    "        triangle.shift(RIGHT)\n",
    "\n",
    "        self.play(Create(triangle), run_time=1)\n",
    "        self.play(Create(square), run_time=1)\n",
    "        self.play(Create(circle), run_time=1)\n",
    "        self.wait()"
   ]
  },
  {
   "cell_type": "code",
   "execution_count": null,
   "metadata": {},
   "outputs": [],
   "source": [
    "%%manim -qm ShapesDesign\n",
    "\n",
    "class ShapesDesign(Scene):\n",
    "    def construct(self):\n",
    "        rectangle = Rectangle(stroke_color='#87C2A5', fill_color='#87C2A5', fill_opacity=1, height=3, width=4)\n",
    "        \n",
    "        self.play(Create(rectangle), runtime=3)\n",
    "        self.wait()"
   ]
  },
  {
   "cell_type": "code",
   "execution_count": null,
   "metadata": {},
   "outputs": [],
   "source": [
    "%%manim -qm HelloWorld\n",
    "\n",
    "class HelloWorld(Scene):\n",
    "    def construct(self):\n",
    "        text = Text(\"Hello world!\", font_size=144)\n",
    "        self.play(Write(text))"
   ]
  },
  {
   "cell_type": "markdown",
   "metadata": {},
   "source": [
    "# 직접 해보기 - 글 및 수식 작성하기"
   ]
  },
  {
   "cell_type": "code",
   "execution_count": null,
   "metadata": {},
   "outputs": [],
   "source": [
    "%%manim -qm DifferentWeight\n",
    "\n",
    "class DifferentWeight(Scene):\n",
    "    def construct(self):\n",
    "        import manimpango\n",
    "\n",
    "        g = VGroup()\n",
    "        weight_list = dict(\n",
    "            sorted(\n",
    "                {\n",
    "                    weight: manimpango.Weight(weight).value\n",
    "                    for weight in manimpango.Weight\n",
    "                }.items(),\n",
    "                key=lambda x: x[1],\n",
    "            )\n",
    "        )\n",
    "        for weight in weight_list:\n",
    "            g += Text(weight.name, weight=weight.name, font=\"Open Sans\")\n",
    "        self.add(g.arrange(DOWN).scale(0.5))"
   ]
  },
  {
   "cell_type": "code",
   "execution_count": null,
   "metadata": {},
   "outputs": [],
   "source": [
    "%%manim -qm HelloLatex\n",
    "\n",
    "class HelloLatex(Scene):\n",
    "    def construct(self):\n",
    "        line = Tex(\"Hello \"r\"\\LaTeX\"\"!\")\n",
    "\n",
    "        self.play(Write(line))\n",
    "        self.wait(1)"
   ]
  }
 ],
 "metadata": {
  "language_info": {
   "name": "python"
  },
  "orig_nbformat": 4
 },
 "nbformat": 4,
 "nbformat_minor": 2
}
