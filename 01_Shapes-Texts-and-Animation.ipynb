{
 "cells": [
  {
   "cell_type": "markdown",
   "metadata": {},
   "source": [
    "# 도형 그리기"
   ]
  },
  {
   "cell_type": "code",
   "execution_count": 1,
   "metadata": {},
   "outputs": [
    {
     "data": {
      "text/html": [
       "<pre style=\"white-space:pre;overflow-x:auto;line-height:normal;font-family:Menlo,'DejaVu Sans Mono',consolas,'Courier New',monospace\">Manim Community <span style=\"color: #008000; text-decoration-color: #008000\">v0.17.2</span>\n",
       "\n",
       "</pre>\n"
      ],
      "text/plain": [
       "Manim Community \u001b[32mv0.\u001b[0m\u001b[32m17.2\u001b[0m\n",
       "\n"
      ]
     },
     "metadata": {},
     "output_type": "display_data"
    }
   ],
   "source": [
    "from manim import *\n",
    "\n",
    "config.media_width = \"75%\"\n",
    "config.verbosity = \"WARNING\""
   ]
  },
  {
   "cell_type": "markdown",
   "metadata": {},
   "source": [
    "도형을 그려봅시다. 지난 시간의 `직접 해보기`와 같이 작성하면 됩니다."
   ]
  },
  {
   "cell_type": "markdown",
   "metadata": {},
   "source": [
    "| parameters | meaning |\n",
    "| --- | --- |\n",
    "| color | 색상 |\n",
    "| height | 높이 |\n",
    "| width | 너비 |\n",
    "| stroke_color | 테두리 색상 |\n",
    "| fill_color | 채우기 색상 |\n",
    "| fill_opacity | 불투명도 |"
   ]
  },
  {
   "cell_type": "markdown",
   "metadata": {},
   "source": [
    "이번에는 위의 특성들을 응용하며 다양한 도형을 그려봅시다."
   ]
  },
  {
   "cell_type": "code",
   "execution_count": 2,
   "metadata": {},
   "outputs": [
    {
     "name": "stderr",
     "output_type": "stream",
     "text": [
      "                                                                    \r"
     ]
    },
    {
     "data": {
      "text/html": [
       "<video src=\"media\\jupyter\\Shapes@2023-09-04@12-36-29.mp4\" controls autoplay loop style=\"max-width: 75%;\"  >\n",
       "      Your browser does not support the <code>video</code> element.\n",
       "    </video>"
      ],
      "text/plain": [
       "<IPython.core.display.Video object>"
      ]
     },
     "metadata": {},
     "output_type": "display_data"
    }
   ],
   "source": [
    "%%manim -qm Shapes\n",
    "\n",
    "class Shapes(Scene):\n",
    "    def construct(self):\n",
    "        circle = Circle(stroke_color='#87C2A5', fill_color='#87C2A5', fill_opacity=1)\n",
    "        square = Square(stroke_color='#525893', fill_color='#525893', fill_opacity=1)\n",
    "        triangle = Triangle(stroke_color='#E07A5F', fill_color='#E07A5F', fill_opacity=1)\n",
    "\n",
    "        circle.shift(LEFT)\n",
    "        square.shift(UP)\n",
    "        triangle.shift(RIGHT)\n",
    "\n",
    "        self.play(Create(triangle), run_time=1)\n",
    "        self.play(Create(square), run_time=1)\n",
    "        self.play(Create(circle), run_time=1)\n",
    "        self.wait()"
   ]
  },
  {
   "cell_type": "markdown",
   "metadata": {},
   "source": [
    "더 공부하고 싶다면 [여기](https://docs.manim.community/en/stable/reference/manim.mobject.geometry.html)를 참고하세요."
   ]
  },
  {
   "cell_type": "markdown",
   "metadata": {},
   "source": [
    "# 글 작성하기"
   ]
  },
  {
   "cell_type": "markdown",
   "metadata": {},
   "source": [
    "아무래도 우리는 수식을 활용해서 작성할 일이 많을 테니까, 영상에 도형 Mobject뿐만 아니라 글 Mobject도 넣을 줄 알아야겠죠? 글을 넣는 방법은 두 가지가 있습니다.\n",
    "1. Using Pango - `text_mobject` <br>\n",
    "  우리가 생각하는 보통의 글자입니다.\n",
    "\n",
    "2. Using LaTeX - `tex_mobject` <br>\n",
    "  LaTeX 문법을 따르는, 수식 입력 문자입니다."
   ]
  },
  {
   "cell_type": "code",
   "execution_count": 6,
   "metadata": {},
   "outputs": [
    {
     "name": "stderr",
     "output_type": "stream",
     "text": [
      "                                                                                         \r"
     ]
    },
    {
     "data": {
      "text/html": [
       "<video src=\"media\\jupyter\\HelloWorld@2023-09-04@12-37-53.mp4\" controls autoplay loop style=\"max-width: 75%;\"  >\n",
       "      Your browser does not support the <code>video</code> element.\n",
       "    </video>"
      ],
      "text/plain": [
       "<IPython.core.display.Video object>"
      ]
     },
     "metadata": {},
     "output_type": "display_data"
    }
   ],
   "source": [
    "%%manim -qm HelloWorld\n",
    "\n",
    "class HelloWorld(Scene):\n",
    "    def construct(self):\n",
    "        text = Text(\"Hello world!\", font_size=144)\n",
    "        self.play(Write(text))"
   ]
  },
  {
   "cell_type": "markdown",
   "metadata": {},
   "source": [
    "더 공부하고 싶다면 [여기](https://docs.manim.community/en/stable/guides/using_text.html)를 참고하세요."
   ]
  },
  {
   "cell_type": "markdown",
   "metadata": {},
   "source": [
    "# 직접 해보기 - 글 및 수식 작성하기"
   ]
  },
  {
   "cell_type": "code",
   "execution_count": null,
   "metadata": {},
   "outputs": [],
   "source": [
    "%%manim -qm DifferentWeight\n",
    "\n",
    "class DifferentWeight(Scene):\n",
    "    def construct(self):\n",
    "        import manimpango\n",
    "\n",
    "        g = VGroup()\n",
    "        weight_list = dict(\n",
    "            sorted(\n",
    "                {\n",
    "                    weight: manimpango.Weight(weight).value\n",
    "                    for weight in manimpango.Weight\n",
    "                }.items(),\n",
    "                key=lambda x: x[1],\n",
    "            )\n",
    "        )\n",
    "        for weight in weight_list:\n",
    "            g += Text(weight.name, weight=weight.name, font=\"Open Sans\")\n",
    "        self.add(g.arrange(DOWN).scale(0.5))"
   ]
  },
  {
   "cell_type": "code",
   "execution_count": null,
   "metadata": {},
   "outputs": [],
   "source": [
    "%%manim -qm HelloLatex\n",
    "\n",
    "class HelloLatex(Scene):\n",
    "    def construct(self):\n",
    "        line = Tex(\"Hello \"r\"\\LaTeX\"\"!\")\n",
    "\n",
    "        self.play(Write(line))\n",
    "        self.wait(1)"
   ]
  }
 ],
 "metadata": {
  "kernelspec": {
   "display_name": "Python 3",
   "language": "python",
   "name": "python3"
  },
  "language_info": {
   "codemirror_mode": {
    "name": "ipython",
    "version": 3
   },
   "file_extension": ".py",
   "mimetype": "text/x-python",
   "name": "python",
   "nbconvert_exporter": "python",
   "pygments_lexer": "ipython3",
   "version": "3.10.11"
  },
  "orig_nbformat": 4
 },
 "nbformat": 4,
 "nbformat_minor": 2
}
