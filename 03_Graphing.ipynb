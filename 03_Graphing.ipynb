{
 "cells": [
  {
   "cell_type": "code",
   "execution_count": 1,
   "metadata": {},
   "outputs": [
    {
     "data": {
      "text/html": [
       "<pre style=\"white-space:pre;overflow-x:auto;line-height:normal;font-family:Menlo,'DejaVu Sans Mono',consolas,'Courier New',monospace\">Manim Community <span style=\"color: #008000; text-decoration-color: #008000\">v0.17.2</span>\n",
       "\n",
       "</pre>\n"
      ],
      "text/plain": [
       "Manim Community \u001b[32mv0.\u001b[0m\u001b[32m17.2\u001b[0m\n",
       "\n"
      ]
     },
     "metadata": {},
     "output_type": "display_data"
    }
   ],
   "source": [
    "from manim import *\n",
    "\n",
    "config.media_width = \"75%\"\n",
    "config.verbosity = \"WARNING\""
   ]
  },
  {
   "cell_type": "code",
   "execution_count": 9,
   "metadata": {},
   "outputs": [
    {
     "name": "stderr",
     "output_type": "stream",
     "text": [
      "                                                                                                              \r"
     ]
    },
    {
     "data": {
      "text/html": [
       "<video src=\"media\\jupyter\\Graphing@2023-11-09@14-19-46.mp4\" controls autoplay loop style=\"max-width: 75%;\"  >\n",
       "      Your browser does not support the <code>video</code> element.\n",
       "    </video>"
      ],
      "text/plain": [
       "<IPython.core.display.Video object>"
      ]
     },
     "metadata": {},
     "output_type": "display_data"
    }
   ],
   "source": [
    "%%manim -qm Graphing\n",
    "\n",
    "class Graphing(Scene):\n",
    "  def construct(self):\n",
    "    plane = NumberPlane(x_range=[-4, 4, 1], y_range=[-4, 4, 1]).to_edge(DOWN).add_coordinates()\n",
    "\n",
    "    self.play(DrawBorderThenFill(plane))\n",
    "    self.wait(3)"
   ]
  },
  {
   "cell_type": "code",
   "execution_count": 10,
   "metadata": {},
   "outputs": [
    {
     "name": "stderr",
     "output_type": "stream",
     "text": [
      "                                                                                                              \r"
     ]
    },
    {
     "data": {
      "text/html": [
       "<video src=\"media\\jupyter\\Graphing@2023-11-09@14-22-26.mp4\" controls autoplay loop style=\"max-width: 75%;\"  >\n",
       "      Your browser does not support the <code>video</code> element.\n",
       "    </video>"
      ],
      "text/plain": [
       "<IPython.core.display.Video object>"
      ]
     },
     "metadata": {},
     "output_type": "display_data"
    }
   ],
   "source": [
    "%%manim -qm Graphing\n",
    "\n",
    "class Graphing(Scene):\n",
    "  def construct(self):\n",
    "    plane = NumberPlane(x_range=[-4, 4, 1], y_range=[-4, 4, 1]).to_edge(DOWN)\n",
    "    \n",
    "    self.play(DrawBorderThenFill(plane))\n",
    "    self.wait(3)"
   ]
  },
  {
   "cell_type": "code",
   "execution_count": 12,
   "metadata": {},
   "outputs": [
    {
     "name": "stderr",
     "output_type": "stream",
     "text": [
      "                                                                                                              \r"
     ]
    },
    {
     "data": {
      "text/html": [
       "<video src=\"media\\jupyter\\Graphing@2023-11-09@14-24-32.mp4\" controls autoplay loop style=\"max-width: 75%;\"  >\n",
       "      Your browser does not support the <code>video</code> element.\n",
       "    </video>"
      ],
      "text/plain": [
       "<IPython.core.display.Video object>"
      ]
     },
     "metadata": {},
     "output_type": "display_data"
    }
   ],
   "source": [
    "%%manim -qm Graphing\n",
    "\n",
    "class Graphing(Scene):\n",
    "  def construct(self):\n",
    "    plane = NumberPlane(x_range=[-10, 10, 1], y_range=[-10, 10, 1]).to_edge(DOWN).add_coordinates()\n",
    "    \n",
    "    self.play(DrawBorderThenFill(plane))\n",
    "    self.wait(3)"
   ]
  },
  {
   "cell_type": "code",
   "execution_count": 15,
   "metadata": {},
   "outputs": [
    {
     "name": "stderr",
     "output_type": "stream",
     "text": [
      "                                                                                                              \r"
     ]
    },
    {
     "data": {
      "text/html": [
       "<video src=\"media\\jupyter\\Graphing@2023-11-09@14-52-23.mp4\" controls autoplay loop style=\"max-width: 75%;\"  >\n",
       "      Your browser does not support the <code>video</code> element.\n",
       "    </video>"
      ],
      "text/plain": [
       "<IPython.core.display.Video object>"
      ]
     },
     "metadata": {},
     "output_type": "display_data"
    }
   ],
   "source": [
    "%%manim -qm Graphing\n",
    "\n",
    "class Graphing(Scene):\n",
    "  def construct(self):\n",
    "    plane = NumberPlane(x_range=[-10, 10, 1], y_range=[-10, 10, 1], x_length=12, y_length=7).to_edge(DOWN).add_coordinates()\n",
    "    \n",
    "    self.play(DrawBorderThenFill(plane))\n",
    "    self.wait(3)"
   ]
  },
  {
   "cell_type": "code",
   "execution_count": 20,
   "metadata": {},
   "outputs": [
    {
     "name": "stderr",
     "output_type": "stream",
     "text": [
      "                                                                                                    \r"
     ]
    },
    {
     "data": {
      "text/html": [
       "<video src=\"media\\jupyter\\Graphing@2023-11-09@15-04-07.mp4\" controls autoplay loop style=\"max-width: 75%;\"  >\n",
       "      Your browser does not support the <code>video</code> element.\n",
       "    </video>"
      ],
      "text/plain": [
       "<IPython.core.display.Video object>"
      ]
     },
     "metadata": {},
     "output_type": "display_data"
    }
   ],
   "source": [
    "%%manim -qm Graphing\n",
    "\n",
    "import numpy as np\n",
    "\n",
    "class Graphing(Scene):\n",
    "  def construct(self):\n",
    "    plane = NumberPlane(x_range=[-10, 10, 1], y_range=[-10, 10, 1], x_length=12, y_length=7).to_edge(DOWN).add_coordinates()\n",
    "    \n",
    "    graph = plane.plot(lambda x : 10*np.sin(x), x_range=(-10, 10), color=RED)\n",
    "    area = plane.get_riemann_rectangles(graph=graph, x_range=[-4, 6], dx=0.1, stroke_width=0.5, stroke_color=WHITE)\n",
    "\n",
    "    self.play(DrawBorderThenFill(plane))\n",
    "    self.play(FadeIn(graph))\n",
    "    self.wait(3)\n",
    "\n",
    "    self.play(Create(area), run_time=2)\n",
    "    self.wait(3)"
   ]
  },
  {
   "cell_type": "code",
   "execution_count": 47,
   "metadata": {},
   "outputs": [
    {
     "name": "stderr",
     "output_type": "stream",
     "text": [
      "                                                                                                                                                              \r"
     ]
    },
    {
     "data": {
      "text/html": [
       "<video src=\"media\\jupyter\\Graphing@2023-11-09@15-56-37.mp4\" controls autoplay loop style=\"max-width: 75%;\"  >\n",
       "      Your browser does not support the <code>video</code> element.\n",
       "    </video>"
      ],
      "text/plain": [
       "<IPython.core.display.Video object>"
      ]
     },
     "metadata": {},
     "output_type": "display_data"
    }
   ],
   "source": [
    "%%manim -qm Graphing\n",
    "\n",
    "import numpy as np\n",
    "\n",
    "class Graphing(Scene):\n",
    "  def construct(self):\n",
    "    # Plane\n",
    "    plane = NumberPlane(x_range=[-1, 1, 1], y_range=[-1, 1, 1], x_length=7, y_length=7).to_edge(LEFT).add_coordinates()\n",
    "    \n",
    "    # Graph\n",
    "    graph = plane.plot_parametric_curve(\n",
    "      lambda t: np.array(\n",
    "        [\n",
    "          0.8 * np.sin(t) ** 3,\n",
    "          0.65 * np.cos(t) - 0.25 * np.cos(2*t) - 0.1 * np.cos(3*t) - 0.05 *np.cos(4*t),\n",
    "          0,\n",
    "        ]\n",
    "      ),\n",
    "      t_range=[0, 2*PI], color=RED\n",
    "    )\n",
    "\n",
    "    # Lable\n",
    "    equs = MathTex(r\"x&=0.8\\sin(t)^3 \\\\ y&=0.65\\cos(t)-0.25\\cos(2t)-0.1\\cos(3t)-0.05\\cos(4t)\", font_size=20).to_edge(RIGHT)\n",
    "    self.play(Write(equs))\n",
    "    self.play(DrawBorderThenFill(plane))\n",
    "    self.play(FadeIn(graph))\n",
    "    self.wait(3)\n",
    "    "
   ]
  }
 ],
 "metadata": {
  "kernelspec": {
   "display_name": "Python 3",
   "language": "python",
   "name": "python3"
  },
  "language_info": {
   "codemirror_mode": {
    "name": "ipython",
    "version": 3
   },
   "file_extension": ".py",
   "mimetype": "text/x-python",
   "name": "python",
   "nbconvert_exporter": "python",
   "pygments_lexer": "ipython3",
   "version": "3.10.11"
  }
 },
 "nbformat": 4,
 "nbformat_minor": 2
}
