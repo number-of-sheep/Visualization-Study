{
 "cells": [
  {
   "cell_type": "code",
   "execution_count": 21,
   "metadata": {},
   "outputs": [],
   "source": [
    "from manim import *\n",
    "\n",
    "config.media_width = \"75%\"\n",
    "config.verbosity = \"WARNING\""
   ]
  },
  {
   "cell_type": "code",
   "execution_count": 26,
   "metadata": {},
   "outputs": [
    {
     "name": "stderr",
     "output_type": "stream",
     "text": [
      "                                                                         \r"
     ]
    },
    {
     "data": {
      "text/html": [
       "<video src=\"media\\jupyter\\ValueTrack@2023-10-30@15-58-41.mp4\" controls autoplay loop style=\"max-width: 75%;\"  >\n",
       "      Your browser does not support the <code>video</code> element.\n",
       "    </video>"
      ],
      "text/plain": [
       "<IPython.core.display.Video object>"
      ]
     },
     "metadata": {},
     "output_type": "display_data"
    }
   ],
   "source": [
    "%%manim -qm ValueTrack\n",
    "\n",
    "class ValueTrack(Scene):\n",
    "  def construct(self):\n",
    "    \n",
    "    k = ValueTracker(0)\n",
    "\n",
    "    num = DecimalNumber().set_value(k.get_value())\n",
    "    \n",
    "    self.play(FadeIn(num))\n",
    "    self.wait()"
   ]
  },
  {
   "cell_type": "code",
   "execution_count": 27,
   "metadata": {},
   "outputs": [
    {
     "name": "stderr",
     "output_type": "stream",
     "text": [
      "                                                                                  \r"
     ]
    },
    {
     "data": {
      "text/html": [
       "<video src=\"media\\jupyter\\ValueTrack@2023-10-30@15-59-45.mp4\" controls autoplay loop style=\"max-width: 75%;\"  >\n",
       "      Your browser does not support the <code>video</code> element.\n",
       "    </video>"
      ],
      "text/plain": [
       "<IPython.core.display.Video object>"
      ]
     },
     "metadata": {},
     "output_type": "display_data"
    }
   ],
   "source": [
    "%%manim -qm ValueTrack\n",
    "\n",
    "class ValueTrack(Scene):\n",
    "  def construct(self):\n",
    "    \n",
    "    k = ValueTracker(0)\n",
    "\n",
    "    num = DecimalNumber().set_value(k.get_value())\n",
    "    \n",
    "    self.play(FadeIn(num))\n",
    "    self.play(k.animate.set_value(5), run_time=5) # 단순히 추가해서는 작동하지 않음\n",
    "    self.wait()"
   ]
  },
  {
   "cell_type": "code",
   "execution_count": 28,
   "metadata": {},
   "outputs": [
    {
     "name": "stderr",
     "output_type": "stream",
     "text": [
      "                                                                                  \r"
     ]
    },
    {
     "data": {
      "text/html": [
       "<video src=\"media\\jupyter\\ValueTrack@2023-10-30@16-02-06.mp4\" controls autoplay loop style=\"max-width: 75%;\"  >\n",
       "      Your browser does not support the <code>video</code> element.\n",
       "    </video>"
      ],
      "text/plain": [
       "<IPython.core.display.Video object>"
      ]
     },
     "metadata": {},
     "output_type": "display_data"
    }
   ],
   "source": [
    "%%manim -qm ValueTrack\n",
    "\n",
    "class ValueTrack(Scene):\n",
    "  def construct(self):\n",
    "    \n",
    "    k = ValueTracker(0)\n",
    "\n",
    "    # num = DecimalNumber().set_value(k.get_value())\n",
    "    num = always_redraw(lambda:DecimalNumber().set_value(k.get_value()))\n",
    "\n",
    "    self.play(FadeIn(num))\n",
    "    self.play(k.animate.set_value(5), run_time=5) # 이제 이게 동작함\n",
    "    self.wait()"
   ]
  },
  {
   "cell_type": "code",
   "execution_count": 29,
   "metadata": {},
   "outputs": [
    {
     "name": "stderr",
     "output_type": "stream",
     "text": [
      "                                                                                  \r"
     ]
    },
    {
     "data": {
      "text/html": [
       "<video src=\"media\\jupyter\\NumberedLine@2023-10-30@16-04-28.mp4\" controls autoplay loop style=\"max-width: 75%;\"  >\n",
       "      Your browser does not support the <code>video</code> element.\n",
       "    </video>"
      ],
      "text/plain": [
       "<IPython.core.display.Video object>"
      ]
     },
     "metadata": {},
     "output_type": "display_data"
    }
   ],
   "source": [
    "%%manim -qm NumberedLine\n",
    "\n",
    "class NumberedLine(Scene):\n",
    "    def construct(self):\n",
    "        number_line = NumberLine()\n",
    "        pointer = Vector(DOWN)\n",
    "        label = MathTex(\"x\").add_updater(lambda m: m.next_to(pointer, UP))\n",
    "\n",
    "        tracker = ValueTracker(0)\n",
    "        pointer.add_updater(\n",
    "            lambda m: m.next_to(\n",
    "                        number_line.n2p(tracker.get_value()),\n",
    "                        UP\n",
    "                    )\n",
    "        )\n",
    "        self.add(number_line, pointer,label)\n",
    "        tracker += 1.5\n",
    "        self.wait(1)\n",
    "        tracker -= 4\n",
    "        self.wait(0.5)\n",
    "        self.play(tracker.animate.set_value(5)),\n",
    "        self.wait(0.5)\n",
    "        self.play(tracker.animate.set_value(3))\n",
    "        self.play(tracker.animate.increment_value(-2))\n",
    "        self.wait(0.5)"
   ]
  },
  {
   "cell_type": "code",
   "execution_count": 31,
   "metadata": {},
   "outputs": [
    {
     "name": "stderr",
     "output_type": "stream",
     "text": [
      "                                                                                            \r"
     ]
    },
    {
     "data": {
      "text/html": [
       "<video src=\"media\\jupyter\\NumberedLine@2023-10-30@16-07-56.mp4\" controls autoplay loop style=\"max-width: 75%;\"  >\n",
       "      Your browser does not support the <code>video</code> element.\n",
       "    </video>"
      ],
      "text/plain": [
       "<IPython.core.display.Video object>"
      ]
     },
     "metadata": {},
     "output_type": "display_data"
    }
   ],
   "source": [
    "%%manim -qm NumberedLine\n",
    "\n",
    "class NumberedLine(Scene):\n",
    "    def construct(self):\n",
    "        number_line = NumberLine()\n",
    "        pointer = Vector(DOWN)\n",
    "        \n",
    "        tracker = ValueTracker(0)\n",
    "        pointer.add_updater(\n",
    "            lambda m: m.next_to(\n",
    "                        number_line.n2p(tracker.get_value()),\n",
    "                        UP\n",
    "                    )\n",
    "        )\n",
    "\n",
    "        label = always_redraw(lambda:DecimalNumber().set_value(tracker.get_value())).add_updater(lambda m: m.next_to(pointer, UP))\n",
    "\n",
    "        self.add(number_line, pointer,label)\n",
    "        tracker += 1.5\n",
    "        self.wait(1)\n",
    "        tracker -= 4\n",
    "        self.wait(0.5)\n",
    "        self.play(tracker.animate.set_value(5)),\n",
    "        self.wait(0.5)\n",
    "        self.play(tracker.animate.set_value(3))\n",
    "        self.play(tracker.animate.increment_value(-2))\n",
    "        self.wait(0.5)"
   ]
  },
  {
   "cell_type": "code",
   "execution_count": 37,
   "metadata": {},
   "outputs": [
    {
     "name": "stderr",
     "output_type": "stream",
     "text": [
      "                                                                                  \r"
     ]
    },
    {
     "data": {
      "text/html": [
       "<video src=\"media\\jupyter\\ValueTrackerExample@2023-10-30@16-22-17.mp4\" controls autoplay loop style=\"max-width: 75%;\"  >\n",
       "      Your browser does not support the <code>video</code> element.\n",
       "    </video>"
      ],
      "text/plain": [
       "<IPython.core.display.Video object>"
      ]
     },
     "metadata": {},
     "output_type": "display_data"
    }
   ],
   "source": [
    "%%manim -qm ValueTrackerExample\n",
    "\n",
    "class ValueTrackerExample(Scene):\n",
    "    def construct(self):\n",
    "\n",
    "        # ValueTracker\n",
    "        k = ValueTracker(0.01)\n",
    "\n",
    "        # Axis\n",
    "        axes = Axes(x_range=[0, 3*PI, 1], x_length=10, \n",
    "        \t\t\ty_range=[-3, 3, 1], y_length=6)\n",
    "        axes.add_coordinates()\n",
    "\n",
    "        # Graph\n",
    "        graph = always_redraw(lambda : \n",
    "        axes.plot(lambda x : np.sin(x), x_range=[0, k.get_value()], color=BLUE))\n",
    "        dot = always_redraw(lambda : Dot(fill_color=BLUE, \n",
    "        \t\t\t\t\tfill_opacity=0.8).scale(0.5).move_to(graph.get_end()))\n",
    "        \n",
    "        # MathTex\n",
    "        title = MathTex(\"f(\\\\theta) = sin\\\\theta\",\n",
    "        \t\t\t\tcolor=WHITE).next_to(axes, UP, buff=0.1)\n",
    "\n",
    "        VG = VGroup(graph, dot)\n",
    "\n",
    "        # play\n",
    "        self.play(LaggedStart(Create(axes), Write(title), run_time=3))\n",
    "        self.wait(1)\n",
    "        self.add(VG)\n",
    "        \n",
    "        self.play(k.animate.set_value(2.5*PI), run_time=4, rate_func=linear)\n",
    "        self.wait(2)"
   ]
  }
 ],
 "metadata": {
  "kernelspec": {
   "display_name": "Python 3",
   "language": "python",
   "name": "python3"
  },
  "language_info": {
   "codemirror_mode": {
    "name": "ipython",
    "version": 3
   },
   "file_extension": ".py",
   "mimetype": "text/x-python",
   "name": "python",
   "nbconvert_exporter": "python",
   "pygments_lexer": "ipython3",
   "version": "3.10.11"
  },
  "orig_nbformat": 4
 },
 "nbformat": 4,
 "nbformat_minor": 2
}
